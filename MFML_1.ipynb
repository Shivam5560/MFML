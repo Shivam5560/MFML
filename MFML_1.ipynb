{
 "cells": [
  {
   "cell_type": "code",
   "execution_count": 3,
   "id": "9d2fa2cb",
   "metadata": {},
   "outputs": [
    {
     "name": "stdout",
     "output_type": "stream",
     "text": [
      "No of rows = 3\n",
      "No of columns = 3\n",
      "Row 0\n",
      "     Columnn 0= 1\n",
      "\n",
      "     Columnn 1= 2\n",
      "\n",
      "     Columnn 2= 3\n",
      "\n",
      "Row 1\n",
      "     Columnn 0= 4\n",
      "\n",
      "     Columnn 1= 5\n",
      "\n",
      "     Columnn 2= 6\n",
      "\n",
      "Row 2\n",
      "     Columnn 0= 7\n",
      "\n",
      "     Columnn 1= 8\n",
      "\n",
      "     Columnn 2= 9\n",
      "\n",
      "[[1, 2, 3], [4, 5, 6], [7, 8, 9]]\n",
      "The Row echelon form of matrix M and the pivot columns : (Matrix([\n",
      "[1, 0, -1],\n",
      "[0, 1,  2],\n",
      "[0, 0,  0]]), (0, 1))\n"
     ]
    }
   ],
   "source": [
    "\n",
    "import sympy\n",
    "\n",
    "r=int(input('No of rows = '))\n",
    "c=int(input('No of columns = '))\n",
    "array=[]\n",
    "for x in range(r):\n",
    "    a=[]\n",
    "    print('Row',x)\n",
    "    for y in range(c):\n",
    "        print('     Columnn '+str(y),end='= ')\n",
    "        value=int(input())\n",
    "        print()\n",
    "        a.append(value)\n",
    "    array.append(a)\n",
    "print(array)\n",
    "\n",
    "# Use sympy.rref() method\n",
    "M_rref = sympy.Matrix(array).rref()\n",
    "\t\n",
    "print(\"The Row echelon form of matrix M and the pivot columns : {}\".format(M_rref))\n"
   ]
  },
  {
   "cell_type": "code",
   "execution_count": null,
   "id": "2374fea1",
   "metadata": {},
   "outputs": [],
   "source": []
  }
 ],
 "metadata": {
  "kernelspec": {
   "display_name": "Python 3 (ipykernel)",
   "language": "python",
   "name": "python3"
  },
  "language_info": {
   "codemirror_mode": {
    "name": "ipython",
    "version": 3
   },
   "file_extension": ".py",
   "mimetype": "text/x-python",
   "name": "python",
   "nbconvert_exporter": "python",
   "pygments_lexer": "ipython3",
   "version": "3.9.12"
  }
 },
 "nbformat": 4,
 "nbformat_minor": 5
}
